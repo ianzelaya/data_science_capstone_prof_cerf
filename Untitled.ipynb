{
 "cells": [
  {
   "cell_type": "markdown",
   "metadata": {},
   "source": [
    "# Analyzing the Effects of Fintech on the Banking Industry with Foursquare Developers API\n",
    "### Ian Zelaya\n",
    "***"
   ]
  },
  {
   "cell_type": "markdown",
   "metadata": {},
   "source": [
    "## Introduction "
   ]
  },
  {
   "cell_type": "markdown",
   "metadata": {},
   "source": [
    "This project will provide a clear perspective on how fintech is changing the banking industry. It will help entrepreneurs understand what cities or regions could be optimal for fintech entrepreneurship and investors to find locations with great investment opportunities in the fintech industry.\n",
    "\n",
    "In the last couple of years, the fintech industry has revolutionized how the banking industry interacts with its customers. This trend began with movements such as the PayPal company, where transfers of money are made via online. Now, more and more traditional banking services are transferred to a digital form. Some countries, such as Singapore, have further deepened the usage of fintech to the point where most transactions, either for groceries or clothing, are made through digital devices. In the past, banks required to invest a great portion of their money into infrastructure to maintain clients from different areas of a city. Now that fintech services are available, many people prefer to adapt to the technology rather than wasting time in line. This suggests that banks are now able to reduce their investments on infrastructure, gain their customers via online, and focus on more fintech. If this argument is true, there should be evidence of a decreased amount of bank establishments. \n",
    "&emsp;&emsp;&emsp;&emsp;&emsp;&emsp;&emsp;&emsp;&emsp;&emsp;&emsp;&emsp;&emsp;&emsp;&emsp;&emsp;&emsp;&emsp;&emsp;&emsp;&emsp;\n",
    "\n",
    "The objective of this project, besides understanding how fintech has affected the banking industry, is to use data in the \n",
    "Foursquare API. From the API, we will access information from all banking establishments of different cities. The best approach to evidence if fintech has significantly reduced the amount of bank establishments is through time series data. In this approach, the data would be easier to relate it with fintech innovation. Unfortunately, Foursquare API lacks time series data. As an alternative, we will try to evaluate three different hypotheses: \n",
    "\n",
    "- Divergence between countries with high and low fintech innovation \n",
    "- Divergence between big and small cities\n",
    "- Divergence between regions of high and low income \n",
    "\n",
    "The first hypothesis assumes a divergence between high income versus low income, as in theory, high income regions should become early adopters of fintech. The second hypothesis assumes a divergence between big and small cities due to the same reason as hypothesis one. At last, the third hypothesis assumes that countries which are more developed in fintech will have lower levels of bank establishments than countries will lower fintech.\n",
    "\n",
    "\n",
    "### Data\n",
    "More specifically, this project will focus on finding divergence in the amount of bank establishments per population of a city or neighborhood. Our hypothesis will be measured in the following manner:\n",
    "\n",
    "- Geographic difference: Bank establishments per city population \n",
    "- Big and small cities: Bank establishments per city population \n",
    "- High and low income: Bank establishments per neighborhood population \n",
    "\n",
    "Besides using Foursquare API, we will need to find data related to the population and income of cities and neighborhoods. After some research, I found out that Point2 Homes displays this information through its website. The data they use is extracted from the United States Census Bureau, which is a reliable source. Web scraping will be necessary to extract the information from the Point2 Homes Website. In the case of other countries, the data will be extracted from their official census agency. \n",
    "\n",
    "To summarize, Foursquare API will provide us with the location of bank establishments in JSON format and Point2 Homes will provide the population, income and size in HTML format.\n",
    "\n",
    "To give an example, if we want to analyze Manhattan from New York City, Foursquare API returns a list of venues, in which we will filter to extract only venues with the bank category, and then we will use this same location to extract the respective population, income and size of the region. "
   ]
  },
  {
   "cell_type": "code",
   "execution_count": 1,
   "metadata": {},
   "outputs": [],
   "source": [
    "# Import the necessary libraries for the project\n",
    "import requests\n",
    "import pandas as pd\n",
    "import numpy as np\n",
    "from bs4 import BeautifulSoup\n",
    "from geopy.geocoders import Nominatim \n",
    "from sklearn.cluster import KMeans\n",
    "import folium\n",
    "import matplotlib.cm as cm\n",
    "import matplotlib.colors as colors"
   ]
  }
 ],
 "metadata": {
  "kernelspec": {
   "display_name": "Python 3",
   "language": "python",
   "name": "python3"
  },
  "language_info": {
   "codemirror_mode": {
    "name": "ipython",
    "version": 3
   },
   "file_extension": ".py",
   "mimetype": "text/x-python",
   "name": "python",
   "nbconvert_exporter": "python",
   "pygments_lexer": "ipython3",
   "version": "3.7.4"
  }
 },
 "nbformat": 4,
 "nbformat_minor": 2
}
